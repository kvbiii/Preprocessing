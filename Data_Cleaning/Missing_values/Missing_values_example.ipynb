{
 "cells": [
  {
   "cell_type": "markdown",
   "metadata": {},
   "source": [
    "<h1>Import libraries<h1>"
   ]
  },
  {
   "cell_type": "code",
   "execution_count": 1,
   "metadata": {},
   "outputs": [],
   "source": [
    "from Missing_values_imputation.Simple_Imputer import *\n",
    "from Missing_values_imputation.Iterative_Imputer import *\n",
    "from Missing_values_imputation.KMeans_Imputer import *\n",
    "from Missing_values_imputation.KNN_Imputer import *\n",
    "from Plots.Preprocessing_plots import Preprocessing_plots\n",
    "Plots_preprocessing = Preprocessing_plots()\n",
    "from Plots.Other_plots import Other_Plots\n",
    "Other_plots = Other_Plots()"
   ]
  },
  {
   "cell_type": "markdown",
   "metadata": {},
   "source": [
    "<h2>Download data<h2>"
   ]
  },
  {
   "cell_type": "code",
   "execution_count": 2,
   "metadata": {},
   "outputs": [
    {
     "data": {
      "text/html": [
       "<div>\n",
       "<style scoped>\n",
       "    .dataframe tbody tr th:only-of-type {\n",
       "        vertical-align: middle;\n",
       "    }\n",
       "\n",
       "    .dataframe tbody tr th {\n",
       "        vertical-align: top;\n",
       "    }\n",
       "\n",
       "    .dataframe thead th {\n",
       "        text-align: right;\n",
       "    }\n",
       "</style>\n",
       "<table border=\"1\" class=\"dataframe\">\n",
       "  <thead>\n",
       "    <tr style=\"text-align: right;\">\n",
       "      <th></th>\n",
       "      <th>Brand</th>\n",
       "      <th>Current Price</th>\n",
       "      <th>Original Price</th>\n",
       "      <th>Discount Percentage</th>\n",
       "      <th>Rating</th>\n",
       "      <th>Number OF Ratings</th>\n",
       "      <th>Model Name</th>\n",
       "      <th>Dial Shape</th>\n",
       "      <th>Strap Color</th>\n",
       "      <th>Strap Material</th>\n",
       "      <th>Touchscreen</th>\n",
       "      <th>Battery Life (Days)</th>\n",
       "      <th>Bluetooth</th>\n",
       "      <th>Display Size</th>\n",
       "      <th>Weight</th>\n",
       "    </tr>\n",
       "  </thead>\n",
       "  <tbody>\n",
       "    <tr>\n",
       "      <th>0</th>\n",
       "      <td>noise</td>\n",
       "      <td>82990.0</td>\n",
       "      <td>89900.0</td>\n",
       "      <td>7.686318</td>\n",
       "      <td>4.0</td>\n",
       "      <td>65.0</td>\n",
       "      <td>Wrb-sw-colorfitpro4alpha-std-rgld_pnk</td>\n",
       "      <td>NaN</td>\n",
       "      <td>NaN</td>\n",
       "      <td>NaN</td>\n",
       "      <td>NaN</td>\n",
       "      <td>8.0</td>\n",
       "      <td>Yes</td>\n",
       "      <td>NaN</td>\n",
       "      <td>35 - 50 g</td>\n",
       "    </tr>\n",
       "    <tr>\n",
       "      <th>1</th>\n",
       "      <td>fire-boltt</td>\n",
       "      <td>3799.0</td>\n",
       "      <td>16999.0</td>\n",
       "      <td>77.651627</td>\n",
       "      <td>4.3</td>\n",
       "      <td>20788.0</td>\n",
       "      <td>BSW046</td>\n",
       "      <td>NaN</td>\n",
       "      <td>NaN</td>\n",
       "      <td>Silicon</td>\n",
       "      <td>Yes</td>\n",
       "      <td>3.5</td>\n",
       "      <td>Yes</td>\n",
       "      <td>1.8 inches</td>\n",
       "      <td>50 - 75 g</td>\n",
       "    </tr>\n",
       "    <tr>\n",
       "      <th>2</th>\n",
       "      <td>boat</td>\n",
       "      <td>1999.0</td>\n",
       "      <td>7990.0</td>\n",
       "      <td>74.981227</td>\n",
       "      <td>3.8</td>\n",
       "      <td>21724.0</td>\n",
       "      <td>Wave Call</td>\n",
       "      <td>NaN</td>\n",
       "      <td>NaN</td>\n",
       "      <td>Silicon</td>\n",
       "      <td>Yes</td>\n",
       "      <td>8.0</td>\n",
       "      <td>Yes</td>\n",
       "      <td>1.7 inches</td>\n",
       "      <td>35 - 50 g</td>\n",
       "    </tr>\n",
       "    <tr>\n",
       "      <th>3</th>\n",
       "      <td>fire-boltt</td>\n",
       "      <td>1799.0</td>\n",
       "      <td>19999.0</td>\n",
       "      <td>91.004550</td>\n",
       "      <td>4.3</td>\n",
       "      <td>13244.0</td>\n",
       "      <td>BSW053</td>\n",
       "      <td>NaN</td>\n",
       "      <td>NaN</td>\n",
       "      <td>Silicon</td>\n",
       "      <td>Yes</td>\n",
       "      <td>3.5</td>\n",
       "      <td>Yes</td>\n",
       "      <td>1.8 inches</td>\n",
       "      <td>75g +</td>\n",
       "    </tr>\n",
       "    <tr>\n",
       "      <th>4</th>\n",
       "      <td>noise</td>\n",
       "      <td>1599.0</td>\n",
       "      <td>4999.0</td>\n",
       "      <td>68.013603</td>\n",
       "      <td>4.1</td>\n",
       "      <td>13901.0</td>\n",
       "      <td>Wrb-sw-colorfitpulsegobuzz-std-blk_blk</td>\n",
       "      <td>NaN</td>\n",
       "      <td>NaN</td>\n",
       "      <td>Other</td>\n",
       "      <td>Yes</td>\n",
       "      <td>8.0</td>\n",
       "      <td>Yes</td>\n",
       "      <td>1.7 inches</td>\n",
       "      <td>35 - 50 g</td>\n",
       "    </tr>\n",
       "    <tr>\n",
       "      <th>...</th>\n",
       "      <td>...</td>\n",
       "      <td>...</td>\n",
       "      <td>...</td>\n",
       "      <td>...</td>\n",
       "      <td>...</td>\n",
       "      <td>...</td>\n",
       "      <td>...</td>\n",
       "      <td>...</td>\n",
       "      <td>...</td>\n",
       "      <td>...</td>\n",
       "      <td>...</td>\n",
       "      <td>...</td>\n",
       "      <td>...</td>\n",
       "      <td>...</td>\n",
       "      <td>...</td>\n",
       "    </tr>\n",
       "    <tr>\n",
       "      <th>445</th>\n",
       "      <td>fire-boltt</td>\n",
       "      <td>5999.0</td>\n",
       "      <td>8999.0</td>\n",
       "      <td>33.337037</td>\n",
       "      <td>2.5</td>\n",
       "      <td>NaN</td>\n",
       "      <td>bsw003</td>\n",
       "      <td>Circle</td>\n",
       "      <td>Grey</td>\n",
       "      <td>Silicon</td>\n",
       "      <td>Yes</td>\n",
       "      <td>22.0</td>\n",
       "      <td>Yes</td>\n",
       "      <td>1.3 inches</td>\n",
       "      <td>NaN</td>\n",
       "    </tr>\n",
       "    <tr>\n",
       "      <th>446</th>\n",
       "      <td>fire-boltt</td>\n",
       "      <td>3700.0</td>\n",
       "      <td>9999.0</td>\n",
       "      <td>62.996300</td>\n",
       "      <td>NaN</td>\n",
       "      <td>NaN</td>\n",
       "      <td>beast pro</td>\n",
       "      <td>Square</td>\n",
       "      <td>Black</td>\n",
       "      <td>Silicon</td>\n",
       "      <td>Yes</td>\n",
       "      <td>8.0</td>\n",
       "      <td>Yes</td>\n",
       "      <td>0.1 inches</td>\n",
       "      <td>NaN</td>\n",
       "    </tr>\n",
       "    <tr>\n",
       "      <th>447</th>\n",
       "      <td>fire-boltt</td>\n",
       "      <td>5999.0</td>\n",
       "      <td>8999.0</td>\n",
       "      <td>33.337037</td>\n",
       "      <td>2.5</td>\n",
       "      <td>NaN</td>\n",
       "      <td>bsw003</td>\n",
       "      <td>Circle</td>\n",
       "      <td>Gold</td>\n",
       "      <td>Silicon</td>\n",
       "      <td>Yes</td>\n",
       "      <td>22.0</td>\n",
       "      <td>Yes</td>\n",
       "      <td>1.3 inches</td>\n",
       "      <td>NaN</td>\n",
       "    </tr>\n",
       "    <tr>\n",
       "      <th>448</th>\n",
       "      <td>fire-boltt</td>\n",
       "      <td>3200.0</td>\n",
       "      <td>7999.0</td>\n",
       "      <td>59.994999</td>\n",
       "      <td>NaN</td>\n",
       "      <td>NaN</td>\n",
       "      <td>call 2</td>\n",
       "      <td>Square</td>\n",
       "      <td>Blue</td>\n",
       "      <td>Silicon</td>\n",
       "      <td>Yes</td>\n",
       "      <td>22.0</td>\n",
       "      <td>Yes</td>\n",
       "      <td>0.1 inches</td>\n",
       "      <td>NaN</td>\n",
       "    </tr>\n",
       "    <tr>\n",
       "      <th>449</th>\n",
       "      <td>fire-boltt</td>\n",
       "      <td>3000.0</td>\n",
       "      <td>7999.0</td>\n",
       "      <td>62.495312</td>\n",
       "      <td>NaN</td>\n",
       "      <td>NaN</td>\n",
       "      <td>call 2</td>\n",
       "      <td>Square</td>\n",
       "      <td>Black</td>\n",
       "      <td>Silicon</td>\n",
       "      <td>Yes</td>\n",
       "      <td>22.0</td>\n",
       "      <td>Yes</td>\n",
       "      <td>0.1 inches</td>\n",
       "      <td>NaN</td>\n",
       "    </tr>\n",
       "  </tbody>\n",
       "</table>\n",
       "<p>450 rows × 15 columns</p>\n",
       "</div>"
      ],
      "text/plain": [
       "          Brand  Current Price  Original Price  Discount Percentage  Rating  \\\n",
       "0         noise        82990.0         89900.0             7.686318     4.0   \n",
       "1    fire-boltt         3799.0         16999.0            77.651627     4.3   \n",
       "2          boat         1999.0          7990.0            74.981227     3.8   \n",
       "3    fire-boltt         1799.0         19999.0            91.004550     4.3   \n",
       "4         noise         1599.0          4999.0            68.013603     4.1   \n",
       "..          ...            ...             ...                  ...     ...   \n",
       "445  fire-boltt         5999.0          8999.0            33.337037     2.5   \n",
       "446  fire-boltt         3700.0          9999.0            62.996300     NaN   \n",
       "447  fire-boltt         5999.0          8999.0            33.337037     2.5   \n",
       "448  fire-boltt         3200.0          7999.0            59.994999     NaN   \n",
       "449  fire-boltt         3000.0          7999.0            62.495312     NaN   \n",
       "\n",
       "     Number OF Ratings                              Model Name Dial Shape  \\\n",
       "0                 65.0   Wrb-sw-colorfitpro4alpha-std-rgld_pnk        NaN   \n",
       "1              20788.0                                  BSW046        NaN   \n",
       "2              21724.0                               Wave Call        NaN   \n",
       "3              13244.0                                  BSW053        NaN   \n",
       "4              13901.0  Wrb-sw-colorfitpulsegobuzz-std-blk_blk        NaN   \n",
       "..                 ...                                     ...        ...   \n",
       "445                NaN                                  bsw003     Circle   \n",
       "446                NaN                               beast pro     Square   \n",
       "447                NaN                                  bsw003     Circle   \n",
       "448                NaN                                  call 2     Square   \n",
       "449                NaN                                  call 2     Square   \n",
       "\n",
       "    Strap Color Strap Material Touchscreen  Battery Life (Days) Bluetooth  \\\n",
       "0           NaN            NaN         NaN                  8.0       Yes   \n",
       "1           NaN        Silicon         Yes                  3.5       Yes   \n",
       "2           NaN        Silicon         Yes                  8.0       Yes   \n",
       "3           NaN        Silicon         Yes                  3.5       Yes   \n",
       "4           NaN          Other         Yes                  8.0       Yes   \n",
       "..          ...            ...         ...                  ...       ...   \n",
       "445        Grey        Silicon         Yes                 22.0       Yes   \n",
       "446       Black        Silicon         Yes                  8.0       Yes   \n",
       "447        Gold        Silicon         Yes                 22.0       Yes   \n",
       "448        Blue        Silicon         Yes                 22.0       Yes   \n",
       "449       Black        Silicon         Yes                 22.0       Yes   \n",
       "\n",
       "    Display Size     Weight  \n",
       "0            NaN  35 - 50 g  \n",
       "1     1.8 inches  50 - 75 g  \n",
       "2     1.7 inches  35 - 50 g  \n",
       "3     1.8 inches      75g +  \n",
       "4     1.7 inches  35 - 50 g  \n",
       "..           ...        ...  \n",
       "445   1.3 inches        NaN  \n",
       "446   0.1 inches        NaN  \n",
       "447   1.3 inches        NaN  \n",
       "448   0.1 inches        NaN  \n",
       "449   0.1 inches        NaN  \n",
       "\n",
       "[450 rows x 15 columns]"
      ]
     },
     "execution_count": 2,
     "metadata": {},
     "output_type": "execute_result"
    }
   ],
   "source": [
    "data = pd.read_csv(\"../Data/smartwatches.csv\", index_col=0)\n",
    "data"
   ]
  },
  {
   "cell_type": "markdown",
   "metadata": {},
   "source": [
    "$\\text{Remove features that we won't use in analysis.}$"
   ]
  },
  {
   "cell_type": "code",
   "execution_count": 3,
   "metadata": {},
   "outputs": [],
   "source": [
    "data.drop([\"Model Name\", \"Brand\", \"Original Price\"], axis=1, inplace=True)"
   ]
  },
  {
   "cell_type": "markdown",
   "metadata": {},
   "source": [
    "$\\text{Check dtypes of data.}$"
   ]
  },
  {
   "cell_type": "code",
   "execution_count": 4,
   "metadata": {},
   "outputs": [
    {
     "data": {
      "text/plain": [
       "Current Price          float64\n",
       "Discount Percentage    float64\n",
       "Rating                 float64\n",
       "Number OF Ratings      float64\n",
       "Dial Shape              object\n",
       "Strap Color             object\n",
       "Strap Material          object\n",
       "Touchscreen             object\n",
       "Battery Life (Days)    float64\n",
       "Bluetooth               object\n",
       "Display Size            object\n",
       "Weight                  object\n",
       "dtype: object"
      ]
     },
     "execution_count": 4,
     "metadata": {},
     "output_type": "execute_result"
    }
   ],
   "source": [
    "data.dtypes"
   ]
  },
  {
   "cell_type": "markdown",
   "metadata": {},
   "source": [
    "$\\text{Check for null values.}$"
   ]
  },
  {
   "cell_type": "code",
   "execution_count": 5,
   "metadata": {},
   "outputs": [
    {
     "data": {
      "text/plain": [
       "Current Price          0.022222\n",
       "Discount Percentage    0.162222\n",
       "Rating                 0.013333\n",
       "Number OF Ratings      0.131111\n",
       "Dial Shape             0.273333\n",
       "Strap Color            0.273333\n",
       "Strap Material         0.153333\n",
       "Touchscreen            0.082222\n",
       "Battery Life (Days)    0.071111\n",
       "Bluetooth              0.013333\n",
       "Display Size           0.066667\n",
       "Weight                 0.413333\n",
       "dtype: float64"
      ]
     },
     "execution_count": 5,
     "metadata": {},
     "output_type": "execute_result"
    }
   ],
   "source": [
    "data.isnull().sum()/len(data)"
   ]
  },
  {
   "cell_type": "markdown",
   "metadata": {},
   "source": [
    "$\\text{As we can see there are a lot of missing values for continous and categorical variables.}$"
   ]
  },
  {
   "cell_type": "markdown",
   "metadata": {},
   "source": [
    "$\\text{Assume that our target variable is Current Price.}$<p>\n",
    "$\\text{This variable contains } \\approx 2\\% \\text{ of missing values.}$<p>\n",
    "$\\text{For target feature we should not impute values, therefore we will drop all rows where Current Price contains NaN.}$"
   ]
  },
  {
   "cell_type": "code",
   "execution_count": 6,
   "metadata": {},
   "outputs": [],
   "source": [
    "data.dropna(subset=[\"Current Price\"], inplace=True)"
   ]
  },
  {
   "cell_type": "markdown",
   "metadata": {},
   "source": [
    "$\\text{Feature with most missing values is Weight.}$<p>\n",
    "$\\text{Percentage of missing values is } \\approx 41\\% \\text{ that's huge amount of observations.}$<p>\n",
    "$\\text{We should consider removing this column from dataset.}$<p>\n",
    "$\\text{It is assumed that a column containing more than 80\\% of the data should be removed,}$<p>\n",
    "$\\text{however, due to the small number of observations in the analyzed set, this variable will be removed.}$"
   ]
  },
  {
   "cell_type": "code",
   "execution_count": 7,
   "metadata": {},
   "outputs": [],
   "source": [
    "data.drop(\"Weight\", axis=1, inplace=True)"
   ]
  },
  {
   "cell_type": "markdown",
   "metadata": {},
   "source": [
    "$\\text{Final data before imputation looks like this:}$"
   ]
  },
  {
   "cell_type": "code",
   "execution_count": 8,
   "metadata": {},
   "outputs": [
    {
     "data": {
      "text/html": [
       "<div>\n",
       "<style scoped>\n",
       "    .dataframe tbody tr th:only-of-type {\n",
       "        vertical-align: middle;\n",
       "    }\n",
       "\n",
       "    .dataframe tbody tr th {\n",
       "        vertical-align: top;\n",
       "    }\n",
       "\n",
       "    .dataframe thead th {\n",
       "        text-align: right;\n",
       "    }\n",
       "</style>\n",
       "<table border=\"1\" class=\"dataframe\">\n",
       "  <thead>\n",
       "    <tr style=\"text-align: right;\">\n",
       "      <th></th>\n",
       "      <th>Current Price</th>\n",
       "      <th>Discount Percentage</th>\n",
       "      <th>Rating</th>\n",
       "      <th>Number OF Ratings</th>\n",
       "      <th>Dial Shape</th>\n",
       "      <th>Strap Color</th>\n",
       "      <th>Strap Material</th>\n",
       "      <th>Touchscreen</th>\n",
       "      <th>Battery Life (Days)</th>\n",
       "      <th>Bluetooth</th>\n",
       "      <th>Display Size</th>\n",
       "    </tr>\n",
       "  </thead>\n",
       "  <tbody>\n",
       "    <tr>\n",
       "      <th>0</th>\n",
       "      <td>82990.0</td>\n",
       "      <td>7.686318</td>\n",
       "      <td>4.0</td>\n",
       "      <td>65.0</td>\n",
       "      <td>NaN</td>\n",
       "      <td>NaN</td>\n",
       "      <td>NaN</td>\n",
       "      <td>NaN</td>\n",
       "      <td>8.0</td>\n",
       "      <td>Yes</td>\n",
       "      <td>NaN</td>\n",
       "    </tr>\n",
       "    <tr>\n",
       "      <th>1</th>\n",
       "      <td>3799.0</td>\n",
       "      <td>77.651627</td>\n",
       "      <td>4.3</td>\n",
       "      <td>20788.0</td>\n",
       "      <td>NaN</td>\n",
       "      <td>NaN</td>\n",
       "      <td>Silicon</td>\n",
       "      <td>Yes</td>\n",
       "      <td>3.5</td>\n",
       "      <td>Yes</td>\n",
       "      <td>1.8 inches</td>\n",
       "    </tr>\n",
       "    <tr>\n",
       "      <th>2</th>\n",
       "      <td>1999.0</td>\n",
       "      <td>74.981227</td>\n",
       "      <td>3.8</td>\n",
       "      <td>21724.0</td>\n",
       "      <td>NaN</td>\n",
       "      <td>NaN</td>\n",
       "      <td>Silicon</td>\n",
       "      <td>Yes</td>\n",
       "      <td>8.0</td>\n",
       "      <td>Yes</td>\n",
       "      <td>1.7 inches</td>\n",
       "    </tr>\n",
       "    <tr>\n",
       "      <th>3</th>\n",
       "      <td>1799.0</td>\n",
       "      <td>91.004550</td>\n",
       "      <td>4.3</td>\n",
       "      <td>13244.0</td>\n",
       "      <td>NaN</td>\n",
       "      <td>NaN</td>\n",
       "      <td>Silicon</td>\n",
       "      <td>Yes</td>\n",
       "      <td>3.5</td>\n",
       "      <td>Yes</td>\n",
       "      <td>1.8 inches</td>\n",
       "    </tr>\n",
       "    <tr>\n",
       "      <th>4</th>\n",
       "      <td>1599.0</td>\n",
       "      <td>68.013603</td>\n",
       "      <td>4.1</td>\n",
       "      <td>13901.0</td>\n",
       "      <td>NaN</td>\n",
       "      <td>NaN</td>\n",
       "      <td>Other</td>\n",
       "      <td>Yes</td>\n",
       "      <td>8.0</td>\n",
       "      <td>Yes</td>\n",
       "      <td>1.7 inches</td>\n",
       "    </tr>\n",
       "    <tr>\n",
       "      <th>...</th>\n",
       "      <td>...</td>\n",
       "      <td>...</td>\n",
       "      <td>...</td>\n",
       "      <td>...</td>\n",
       "      <td>...</td>\n",
       "      <td>...</td>\n",
       "      <td>...</td>\n",
       "      <td>...</td>\n",
       "      <td>...</td>\n",
       "      <td>...</td>\n",
       "      <td>...</td>\n",
       "    </tr>\n",
       "    <tr>\n",
       "      <th>445</th>\n",
       "      <td>5999.0</td>\n",
       "      <td>33.337037</td>\n",
       "      <td>2.5</td>\n",
       "      <td>NaN</td>\n",
       "      <td>Circle</td>\n",
       "      <td>Grey</td>\n",
       "      <td>Silicon</td>\n",
       "      <td>Yes</td>\n",
       "      <td>22.0</td>\n",
       "      <td>Yes</td>\n",
       "      <td>1.3 inches</td>\n",
       "    </tr>\n",
       "    <tr>\n",
       "      <th>446</th>\n",
       "      <td>3700.0</td>\n",
       "      <td>62.996300</td>\n",
       "      <td>NaN</td>\n",
       "      <td>NaN</td>\n",
       "      <td>Square</td>\n",
       "      <td>Black</td>\n",
       "      <td>Silicon</td>\n",
       "      <td>Yes</td>\n",
       "      <td>8.0</td>\n",
       "      <td>Yes</td>\n",
       "      <td>0.1 inches</td>\n",
       "    </tr>\n",
       "    <tr>\n",
       "      <th>447</th>\n",
       "      <td>5999.0</td>\n",
       "      <td>33.337037</td>\n",
       "      <td>2.5</td>\n",
       "      <td>NaN</td>\n",
       "      <td>Circle</td>\n",
       "      <td>Gold</td>\n",
       "      <td>Silicon</td>\n",
       "      <td>Yes</td>\n",
       "      <td>22.0</td>\n",
       "      <td>Yes</td>\n",
       "      <td>1.3 inches</td>\n",
       "    </tr>\n",
       "    <tr>\n",
       "      <th>448</th>\n",
       "      <td>3200.0</td>\n",
       "      <td>59.994999</td>\n",
       "      <td>NaN</td>\n",
       "      <td>NaN</td>\n",
       "      <td>Square</td>\n",
       "      <td>Blue</td>\n",
       "      <td>Silicon</td>\n",
       "      <td>Yes</td>\n",
       "      <td>22.0</td>\n",
       "      <td>Yes</td>\n",
       "      <td>0.1 inches</td>\n",
       "    </tr>\n",
       "    <tr>\n",
       "      <th>449</th>\n",
       "      <td>3000.0</td>\n",
       "      <td>62.495312</td>\n",
       "      <td>NaN</td>\n",
       "      <td>NaN</td>\n",
       "      <td>Square</td>\n",
       "      <td>Black</td>\n",
       "      <td>Silicon</td>\n",
       "      <td>Yes</td>\n",
       "      <td>22.0</td>\n",
       "      <td>Yes</td>\n",
       "      <td>0.1 inches</td>\n",
       "    </tr>\n",
       "  </tbody>\n",
       "</table>\n",
       "<p>440 rows × 11 columns</p>\n",
       "</div>"
      ],
      "text/plain": [
       "     Current Price  Discount Percentage  Rating  Number OF Ratings Dial Shape  \\\n",
       "0          82990.0             7.686318     4.0               65.0        NaN   \n",
       "1           3799.0            77.651627     4.3            20788.0        NaN   \n",
       "2           1999.0            74.981227     3.8            21724.0        NaN   \n",
       "3           1799.0            91.004550     4.3            13244.0        NaN   \n",
       "4           1599.0            68.013603     4.1            13901.0        NaN   \n",
       "..             ...                  ...     ...                ...        ...   \n",
       "445         5999.0            33.337037     2.5                NaN     Circle   \n",
       "446         3700.0            62.996300     NaN                NaN     Square   \n",
       "447         5999.0            33.337037     2.5                NaN     Circle   \n",
       "448         3200.0            59.994999     NaN                NaN     Square   \n",
       "449         3000.0            62.495312     NaN                NaN     Square   \n",
       "\n",
       "    Strap Color Strap Material Touchscreen  Battery Life (Days) Bluetooth  \\\n",
       "0           NaN            NaN         NaN                  8.0       Yes   \n",
       "1           NaN        Silicon         Yes                  3.5       Yes   \n",
       "2           NaN        Silicon         Yes                  8.0       Yes   \n",
       "3           NaN        Silicon         Yes                  3.5       Yes   \n",
       "4           NaN          Other         Yes                  8.0       Yes   \n",
       "..          ...            ...         ...                  ...       ...   \n",
       "445        Grey        Silicon         Yes                 22.0       Yes   \n",
       "446       Black        Silicon         Yes                  8.0       Yes   \n",
       "447        Gold        Silicon         Yes                 22.0       Yes   \n",
       "448        Blue        Silicon         Yes                 22.0       Yes   \n",
       "449       Black        Silicon         Yes                 22.0       Yes   \n",
       "\n",
       "    Display Size  \n",
       "0            NaN  \n",
       "1     1.8 inches  \n",
       "2     1.7 inches  \n",
       "3     1.8 inches  \n",
       "4     1.7 inches  \n",
       "..           ...  \n",
       "445   1.3 inches  \n",
       "446   0.1 inches  \n",
       "447   1.3 inches  \n",
       "448   0.1 inches  \n",
       "449   0.1 inches  \n",
       "\n",
       "[440 rows x 11 columns]"
      ]
     },
     "execution_count": 8,
     "metadata": {},
     "output_type": "execute_result"
    }
   ],
   "source": [
    "data"
   ]
  },
  {
   "cell_type": "markdown",
   "metadata": {},
   "source": [
    "$\\text{Divide data into X and y variables.}$"
   ]
  },
  {
   "cell_type": "code",
   "execution_count": 9,
   "metadata": {},
   "outputs": [],
   "source": [
    "X = data.drop(\"Current Price\", axis=1)\n",
    "y = data[\"Current Price\"]"
   ]
  },
  {
   "cell_type": "markdown",
   "metadata": {},
   "source": [
    "$\\text{Define categorical and continous variables.}$"
   ]
  },
  {
   "cell_type": "code",
   "execution_count": 10,
   "metadata": {},
   "outputs": [
    {
     "name": "stdout",
     "output_type": "stream",
     "text": [
      "Object features: ['Dial Shape', 'Strap Color', 'Strap Material', 'Touchscreen', 'Bluetooth', 'Display Size']\n",
      "Numeric features: ['Discount Percentage', 'Rating', 'Number OF Ratings', 'Battery Life (Days)']\n"
     ]
    }
   ],
   "source": [
    "list_of_object_features = X.select_dtypes(include=\"object\").columns.tolist()\n",
    "list_of_numeric_features = X.select_dtypes(exclude=\"object\").columns.tolist()\n",
    "print(\"Object features: {}\".format(list_of_object_features))\n",
    "print(\"Numeric features: {}\".format(list_of_numeric_features))"
   ]
  },
  {
   "cell_type": "markdown",
   "metadata": {},
   "source": [
    "$\\text{For categorical features we will use OrdinalEncoder to transform them into numerical type.}$"
   ]
  },
  {
   "cell_type": "code",
   "execution_count": 11,
   "metadata": {},
   "outputs": [],
   "source": [
    "encoder = OrdinalEncoder()\n",
    "X[list_of_object_features] = encoder.fit_transform(X[list_of_object_features])"
   ]
  },
  {
   "cell_type": "markdown",
   "metadata": {},
   "source": [
    "$\\text{Divide data into train and test sets.}$"
   ]
  },
  {
   "cell_type": "code",
   "execution_count": 12,
   "metadata": {},
   "outputs": [],
   "source": [
    "X_train, X_test, y_train, y_test = train_test_split(X, y, shuffle=True, test_size=0.2, random_state=17)"
   ]
  },
  {
   "cell_type": "markdown",
   "metadata": {},
   "source": [
    "$\\text{There are multiple methods that we can use to impute missing values.}$<p>\n",
    "$\\text{We will compare these methods based on mean absolute percentage error of our target variable and predictions based on Gradient Boosting Regressor.}$"
   ]
  },
  {
   "cell_type": "markdown",
   "metadata": {},
   "source": [
    "<h1>Imputation methods<h1>"
   ]
  },
  {
   "cell_type": "markdown",
   "metadata": {},
   "source": [
    "<h2>Drop all rows with at least one missing value<h2>"
   ]
  },
  {
   "cell_type": "code",
   "execution_count": 13,
   "metadata": {},
   "outputs": [],
   "source": [
    "X_train_drop = X_train.dropna(how='any')\n",
    "X_test_drop = X_test.dropna(how='any')\n",
    "y_train_drop = y_train[X_train_drop.index]\n",
    "y_test_drop = y_test[X_test_drop.index]"
   ]
  },
  {
   "cell_type": "code",
   "execution_count": 14,
   "metadata": {},
   "outputs": [
    {
     "name": "stdout",
     "output_type": "stream",
     "text": [
      "TRAIN: Mean absolute percentage error score: 0.0002.\n",
      "TRAIN: Mean absolute percentage error score: 0.6287.\n"
     ]
    }
   ],
   "source": [
    "from sklearn.ensemble import *\n",
    "model = GradientBoostingRegressor(loss=\"squared_error\", n_estimators=500, learning_rate=0.3, random_state=17)\n",
    "model.fit(X_train_drop, y_train_drop)\n",
    "y_pred_train = model.predict(X_train_drop)\n",
    "print(\"TRAIN: Mean absolute percentage error score: {}.\".format(np.round(mean_absolute_percentage_error(y_train_drop, y_pred_train), 4)))\n",
    "y_pred_test = model.predict(X_test_drop)\n",
    "print(\"TRAIN: Mean absolute percentage error score: {}.\".format(np.round(mean_absolute_percentage_error(y_test_drop, y_pred_test), 4)))"
   ]
  },
  {
   "cell_type": "markdown",
   "metadata": {},
   "source": [
    "<h2>Arbitrary value<h2>"
   ]
  },
  {
   "cell_type": "markdown",
   "metadata": {},
   "source": [
    "$\\text{This method assigns special values like: 99; -99, \"Missing\" etc. to null values.}$<p>\n",
    "$\\text{Should be used when the data is not missing at random and for tree algorithms.}$<p>\n",
    "$\\text{In the case of regression models, assigning a value of 99 may cause the coefficient value to be incorrect.}$"
   ]
  },
  {
   "cell_type": "code",
   "execution_count": 15,
   "metadata": {},
   "outputs": [],
   "source": [
    "X_train_arbitrary = X_train.fillna(-99)\n",
    "X_test_arbitrary = X_test.fillna(-99)"
   ]
  },
  {
   "cell_type": "code",
   "execution_count": 16,
   "metadata": {},
   "outputs": [
    {
     "name": "stdout",
     "output_type": "stream",
     "text": [
      "TRAIN: Mean absolute percentage error score: 0.0085.\n",
      "TRAIN: Mean absolute percentage error score: 0.808.\n"
     ]
    }
   ],
   "source": [
    "model = GradientBoostingRegressor(loss=\"squared_error\", n_estimators=500, learning_rate=0.3, random_state=17)\n",
    "model.fit(X_train_arbitrary, y_train)\n",
    "y_pred_train = model.predict(X_train_arbitrary)\n",
    "print(\"TRAIN: Mean absolute percentage error score: {}.\".format(np.round(mean_absolute_percentage_error(y_train, y_pred_train), 4)))\n",
    "y_pred_test = model.predict(X_test_arbitrary)\n",
    "print(\"TRAIN: Mean absolute percentage error score: {}.\".format(np.round(mean_absolute_percentage_error(y_test, y_pred_test), 4)))"
   ]
  },
  {
   "cell_type": "markdown",
   "metadata": {},
   "source": [
    "<h2>Mean/Median/Mode imputation<h2>"
   ]
  },
  {
   "cell_type": "markdown",
   "metadata": {},
   "source": [
    "$\\text{We will impute missing values for continous variables as their means and for categorical variables as mode.}$"
   ]
  },
  {
   "cell_type": "code",
   "execution_count": 17,
   "metadata": {},
   "outputs": [],
   "source": [
    "simple_imputer = Simple_Imputer(continous_strategy=\"mean\", random_state=17)\n",
    "X_train_simple_imputer = simple_imputer.fit_transform(X=X_train, categorical_features=list_of_object_features)\n",
    "X_test_simple_imputer = simple_imputer.transform(X=X_test)"
   ]
  },
  {
   "cell_type": "code",
   "execution_count": 18,
   "metadata": {},
   "outputs": [
    {
     "name": "stdout",
     "output_type": "stream",
     "text": [
      "TRAIN: Mean absolute percentage error score: 0.0115.\n",
      "TRAIN: Mean absolute percentage error score: 0.6619.\n"
     ]
    }
   ],
   "source": [
    "model = GradientBoostingRegressor(loss=\"squared_error\", n_estimators=500, learning_rate=0.3, random_state=17)\n",
    "model.fit(X_train_simple_imputer, y_train)\n",
    "y_pred_train = model.predict(X_train_simple_imputer)\n",
    "print(\"TRAIN: Mean absolute percentage error score: {}.\".format(np.round(mean_absolute_percentage_error(y_train, y_pred_train), 4)))\n",
    "y_pred_test = model.predict(X_test_simple_imputer)\n",
    "print(\"TRAIN: Mean absolute percentage error score: {}.\".format(np.round(mean_absolute_percentage_error(y_test, y_pred_test), 4)))"
   ]
  },
  {
   "cell_type": "markdown",
   "metadata": {},
   "source": [
    "<h2>Iterative imputation<h2>"
   ]
  },
  {
   "cell_type": "markdown",
   "metadata": {},
   "source": [
    "$\\text{Using the chosen machine learning algorithm, we model a variable containing missing values, using the other variables as predictors.}$<p>\n",
    "$\\text{If the dataset contains many features with missing values then the process runs iteratively.}$<p>\n",
    "$\\text{For example, in the 'ascending' approach, we start modeling with the variable containing the fewest missing values,}$<p>\n",
    "$\\text{and impute values for the remaining variables with missing values using the mean/median/mode.}$<p>\n",
    "$\\text{Thanks to the iteration occurring in this method, we make it possible to determine better and better predictions for missings, using previously imputed values.}$"
   ]
  },
  {
   "cell_type": "code",
   "execution_count": 19,
   "metadata": {},
   "outputs": [],
   "source": [
    "Iterative_Imputer = Iterative_Missing_values_Imputer(estimator_regression=GradientBoostingRegressor(random_state=17), estimator_classification=GradientBoostingClassifier(random_state=17), initial_strategy=\"mean\", imputation_order=\"ascending\", random_state=17)\n",
    "X_train_model_iterative_imputation = Iterative_Imputer.fit_transform(X=X_train, categorical_features=list_of_object_features)\n",
    "X_test_model_iterative_imputation = Iterative_Imputer.transform(X_train=X_train_model_iterative_imputation, X_test=X_test)"
   ]
  },
  {
   "cell_type": "code",
   "execution_count": 20,
   "metadata": {},
   "outputs": [
    {
     "name": "stdout",
     "output_type": "stream",
     "text": [
      "TRAIN: Mean absolute percentage error score: 0.0093.\n",
      "TRAIN: Mean absolute percentage error score: 0.8952.\n"
     ]
    }
   ],
   "source": [
    "model = GradientBoostingRegressor(loss=\"squared_error\", n_estimators=500, learning_rate=0.3, random_state=17)\n",
    "model.fit(X_train_model_iterative_imputation, y_train)\n",
    "y_pred_train = model.predict(X_train_model_iterative_imputation)\n",
    "print(\"TRAIN: Mean absolute percentage error score: {}.\".format(np.round(mean_absolute_percentage_error(y_train, y_pred_train), 4)))\n",
    "y_pred_test = model.predict(X_test_model_iterative_imputation)\n",
    "print(\"TRAIN: Mean absolute percentage error score: {}.\".format(np.round(mean_absolute_percentage_error(y_test, y_pred_test), 4)))"
   ]
  },
  {
   "cell_type": "markdown",
   "metadata": {},
   "source": [
    "<h2>KNN Imputation<h2>"
   ]
  },
  {
   "cell_type": "code",
   "execution_count": 21,
   "metadata": {},
   "outputs": [],
   "source": [
    "knn_imputer = KNN_Imputer(n_neighbors=20, weights=\"weighted\")\n",
    "X_train_knn_imputer = knn_imputer.fit_transform(X_train)\n",
    "X_test_knn_imputer = knn_imputer.fit_transform(X_test)"
   ]
  },
  {
   "cell_type": "code",
   "execution_count": 22,
   "metadata": {},
   "outputs": [
    {
     "name": "stdout",
     "output_type": "stream",
     "text": [
      "TRAIN: Mean absolute percentage error score: 0.0068.\n",
      "TRAIN: Mean absolute percentage error score: 0.6725.\n"
     ]
    }
   ],
   "source": [
    "model = GradientBoostingRegressor(loss=\"squared_error\", n_estimators=500, learning_rate=0.3, random_state=17)\n",
    "model.fit(X_train_knn_imputer, y_train)\n",
    "y_pred_train = model.predict(X_train_knn_imputer)\n",
    "print(\"TRAIN: Mean absolute percentage error score: {}.\".format(np.round(mean_absolute_percentage_error(y_train, y_pred_train), 4)))\n",
    "y_pred_test = model.predict(X_test_knn_imputer)\n",
    "print(\"TRAIN: Mean absolute percentage error score: {}.\".format(np.round(mean_absolute_percentage_error(y_test, y_pred_test), 4)))"
   ]
  },
  {
   "cell_type": "markdown",
   "metadata": {},
   "source": [
    "$\\text{Theoretically, the best results were achieved using a simple discard of all observations that contained at least one missing.}$<p>\n",
    "$\\text{However, it is worth noting that a fair amount of data was lost this way.}$<p> \n",
    "$\\text{In many business cases, the client may not allow such \"removal\" of information.}$<p>\n",
    "$\\text{Surprisingly good results were achieved for SimpleImputer and replacing missing values with average.}$<p>\n",
    "$\\text{A similar result was achieved for KNNImputer.}$<p>\n",
    "$\\text{On the other hand, significantly worse results were achieved for arbitrary value and Iterative Imputer.}$"
   ]
  }
 ],
 "metadata": {
  "kernelspec": {
   "display_name": "Python 3",
   "language": "python",
   "name": "python3"
  },
  "language_info": {
   "codemirror_mode": {
    "name": "ipython",
    "version": 3
   },
   "file_extension": ".py",
   "mimetype": "text/x-python",
   "name": "python",
   "nbconvert_exporter": "python",
   "pygments_lexer": "ipython3",
   "version": "3.11.3"
  },
  "orig_nbformat": 4
 },
 "nbformat": 4,
 "nbformat_minor": 2
}
